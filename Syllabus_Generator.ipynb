{
  "nbformat": 4,
  "nbformat_minor": 0,
  "metadata": {
    "colab": {
      "provenance": [],
      "authorship_tag": "ABX9TyPGTFoptfAO8Jd5V+5MWe5/"
    },
    "kernelspec": {
      "name": "python3",
      "display_name": "Python 3"
    },
    "language_info": {
      "name": "python"
    }
  },
  "cells": [
    {
      "cell_type": "code",
      "source": [
        "from jinja2 import Environment, FileSystemLoader\n",
        "import IPython"
      ],
      "metadata": {
        "id": "tUoOK9R88yTd"
      },
      "execution_count": 101,
      "outputs": []
    },
    {
      "cell_type": "markdown",
      "source": [
        "# create template"
      ],
      "metadata": {
        "id": "fc1mCOjXyiR6"
      }
    },
    {
      "cell_type": "code",
      "source": [
        "template_textb = '''\n",
        "<!DOCTYPE html>\n",
        "<html lang=\"en\">\n",
        "<head>\n",
        "    <title>{{ course_info['course_abrv'] }}</title>\n",
        "</head>\n",
        "<body>\n",
        "    <center>\n",
        "    <h1>{{ course_info['title'] }}</h1>\n",
        "    <h2>{{ course_info['course_abrv'] }}</h2>\n",
        "    <h2>{{ semester }}</h2>\n",
        "    </center>\n",
        "\n",
        "\n",
        "    {% for i in body_content %}\n",
        "      <p><hr><hr>\n",
        "      {% set section_title, content_dic, display_instructions = i %}\n",
        "      \n",
        "      <h1>{{ section_title }}</h1>\n",
        "      \n",
        "      {% if display_instructions == 'bulleted_list' %}\n",
        "        {% for key, value in content_dic.items() %}\n",
        "          <li>{{key}}: {{value}}</li>\n",
        "        {% endfor %}\n",
        "\n",
        "      {% else %}\n",
        "        {% for key, value in content_dic.items() %}\n",
        "          {% if key in ['title', 'course_abrv'] %}\n",
        "            {# pass #}\n",
        "          {% elif ((key == 'Work Load') and (omit_breakdown == True)) %}\n",
        "            {# pass #}\n",
        "          {% else %}\n",
        "            <h2>{{ key }}</h2>\n",
        "            {{ value }}\n",
        "          {% endif %}\n",
        "        {% endfor %}\n",
        "\n",
        "      {% endif %}\n",
        "      </p>\n",
        "    {% endfor %}\n",
        "\n",
        "\n",
        "        \n",
        "\n",
        "    {# a comment #}\n",
        "</body>\n",
        "</html>\n",
        "'''"
      ],
      "metadata": {
        "id": "837OT9-ONONu"
      },
      "execution_count": 102,
      "outputs": []
    },
    {
      "cell_type": "code",
      "source": [
        "with open('template1.html', 'w') as fp:\n",
        "    fp.write(template_textb)"
      ],
      "metadata": {
        "id": "JjT0ieSoBUT5"
      },
      "execution_count": 103,
      "outputs": []
    },
    {
      "cell_type": "markdown",
      "source": [
        "# Course info"
      ],
      "metadata": {
        "id": "OC_opfGg-40C"
      }
    },
    {
      "cell_type": "code",
      "source": [
        "course_dic = {\n",
        "    125:\n",
        "      {'title':'Introduction to Computer and Data Science',\n",
        "       'course_abrv':'CS/DS125',\n",
        "       'Course Description': '''Computer science, broadly, studies how to solve problems using computers.  Data science is a related field that focuses on acquiring, cleaning, and exploring data, via visualization and statistical analysis, to aid decision making. This course introduces the fundamental skill of computer science, programming, using data science examples and applications.  No prerequisites.''', \n",
        "       'Course Text' : 'Liffiton, M. & Sheese, B. E. (2018). <a href=\"https://snakebear.science/\">The Python and Pandas Field Guide: An Introduction to Computer and Data Science.</a>',\n",
        "       'Course Tools' : 'This course makes heavy use of Moodle. Students are expected to check Moodle daily throughout the semester. Students will find links to the syllabus, office hours, virtual meetings, reading assignments and responses, assessments, daily class schedules, weekly schedules, project requirements and grades on Moodle. Please email the instructor if you have any trouble accessing these resources.',\n",
        "       'Course Content' : '''<li>Introduction to CS and DS</li>\n",
        "          <li>Values, Variables, Data Types</li>\n",
        "          <li>Booleans, Conditionals, For Loops, While Loops</li>\n",
        "          <li>Functions</li>\n",
        "          <li>Strings, Lists, Files</li>\n",
        "          <li>Series and Dataframes with Pandas</li>\n",
        "          <li>Descriptives Statistics and Correlations with Pandas</li>\n",
        "          <li>Data Visualizations with Seaborn</li>\n",
        "          <li>Data Cleaning: Missing Values, Duplicate Entries, Transforming Strings</li>''',\n",
        "        'Course Goals' : '''<p>This course serves as an introduction to computer science (CS) and data science (DS). In it, you will learn about both as fields of study and work, you will learn computer programming as a fundamental skill (or an art, many would say) applied in both, and you will learn the basics of applying that skill to problems of data exploration and analysis. We will start by answering the questions \"What is computer science?\", \"What are computers?\", \"What is data science?\", and, most importantly, \"How can we solve problems with them?\"</p>\n",
        "                            <p>Programming is a fundamental part of CS and DS, and we will spend a great deal of time learning how to program. We'll start with a simple one-line program and work towards incorporating many of the tools and techniques that allow people to create complex, valuable code like operating systems, video games, and search engines (but we won't quite be ready to make those, yet). We will apply programming to learning about and answering questions about data, which are some of the core activities of data science. And we will be programming using the Python language in notebooks, one of the most common programming environments for practicing data scientists today.</p>\n",
        "                            <p>Upon completing this course, you will have a good understanding of what CS and DS are, including the diverse branches of study and practice contained within both; you will be comfortable working in a notebook programming environment; you will understand the fundamental concepts and constructs of programming; and you will be able to complete simple projects following a standard data science workflow. Overall, you will be able to write programs that make a computer do what you want it to do, giving you a much greater degree of control over it than you had previously, and you will know how to apply that skill to processing and learning from data. Of course, you will also be well prepared to continue on to other courses in computer science, in data science, or in other areas that involve programming.</p>'''\n",
        "       },\n",
        "    387:\n",
        "      {'title':'Deep Learning',\n",
        "       'course_abrv':'CS387',\n",
        "       'Course Description': '''Deep learning (machine learning using large neural networks) has proven to be effective at a a number of difficult tasks, with active research ongoing. Student will study mathematical foundations, implementation of neural network optimization in Python, and a number of applications of deep learning including machine vision and natural laguage processing. Prerequisites: CS128 with a C- or above and CS/MATH 136.''',\n",
        "       'Course Text' : 'There is no textbook for the class. Assigned readings are available through moodle.',\n",
        "       'Course Tools' : 'This course makes heavy use of Moodle. Students are expected to keep up to date with Moodle throughout the semester.',\n",
        "       'Course Content' : '''<li>Linear Algebra, Vectorization</li>\n",
        "                              <li>Logistic Regression</li>\n",
        "                              <li>Hyperparameter Tuning</li>\n",
        "                              <li>Regularization and Normalization</li>\n",
        "                              <li>Optimization Algorithms</li>\n",
        "                              <li>Batch Normalization</li>\n",
        "                              <li>Convolutional Neural Networks</li>\n",
        "                              <li>Recurrent Neural Networks and Sequence Models</li>                              \n",
        "                              <li>Generative Adversarial Networks</li>''',\n",
        "       'Course Goals' : '''From Mark Liffiton's course: This class will study deep learning from several perspectives. First, we will learn the mathematical foundations of building and using artificial neural networks and their implementation in software. With that base of understanding, we will build increasingly complex neural network structures to solve a variety of problems, studying their implementation and limitations along the way. We will study several specific deep learning network structures that have been found to perform well in a domains, including convolutional neural networks for computer vision and recurrent neural networks for natural language processing. And along the way, we will study and consider the ethical implications and issues raised by the use of these complex, often inscrutable systems throughout society.'''}\n",
        "}\n"
      ],
      "metadata": {
        "id": "J7EmyDW8-9zL"
      },
      "execution_count": 104,
      "outputs": []
    },
    {
      "cell_type": "markdown",
      "source": [
        "# Instructor Content"
      ],
      "metadata": {
        "id": "afTSuVEKMi4H"
      }
    },
    {
      "cell_type": "code",
      "source": [
        "instructor_dic = {\n",
        "    'Instructor': 'Brad Sheese, Ph.D., Professor of Computer Science',\n",
        "    'Contact': 'bsheese@iwu.edu',\n",
        "    'Office': 'CNS C207D',\n",
        "    'Office Hours': 'Posted on Moodle.',\n",
        "}"
      ],
      "metadata": {
        "id": "c0K_U4pZMlum"
      },
      "execution_count": 105,
      "outputs": []
    },
    {
      "cell_type": "markdown",
      "source": [
        "# Course Work and Grading"
      ],
      "metadata": {
        "id": "51dNDPFGhQww"
      }
    },
    {
      "cell_type": "code",
      "source": [
        "work_dic = {\n",
        "\n",
        "'Work Load': '''This is a 4 credit hour course which carries the expectation of 10-12 hours per week during a regular semester (3 hours in class, 8-9 hours of work outside class). In a seven week summer session the expectation is 20-24 hours per week (6 hours in class, 16-18 hours of work outside of class).</p>\n",
        "\n",
        "<h3>Regular Session, Fifteen Weeks:</h3>\n",
        "<li>Synchronous instruction: 3 hours per week,  45 hours total</li>\n",
        "<li>Daily assigned reading and reading responses: 2 hours per week, 30 hours total</li>\n",
        "<li>Weekly assignments: 3 hours per week, 45 hours total</li>\n",
        "<li>Projects, project presentations, peer assessment: 12 hours total</li>\n",
        "<li>Overall Assigned Workload (excludes studying for assessments): 132 hours total (7920 minutes)</li>\n",
        "\n",
        "<h3>Summer Session, Seven Weeks:</h3>\n",
        "<li>Synchronous instruction: 5 hours per week, 35 hours total</li>\n",
        "<li>Daily assigned reading and reading responses: 4 hours per week, 28 hours total</li>\n",
        "<li>Weekly assignments: 6 hours per week, 42 hours total\n",
        "<li>Projects, project presentations, peer assessment: 12 hours total</li>\n",
        "<li>Overall Assigned Workload (excludes studying for assessments): 117 hours total (7020 minutes)</li>''',\n",
        "\n",
        "'Reading Responses' : '''This class will be taught in a \"flipped\" style, meaning you will be responsible for your initial exposure to learning new material outside of class, and time in class will be spent on exercises and activities that will strengthen the understanding you bring to class.\n",
        "A set of questions will be assigned to be answered before most classes. These questions will invite your reaction to the assigned material and check your understanding of it. Your responses will help us tailor our time in class to your needs.\n",
        "Answering reading responses before class is critical, and so responses will not be accepted after the assigned deadline.\n",
        "Late or missing reading response submissions receive zero points.''',\n",
        "\n",
        "'Exercises' :\n",
        "''' Every week we will have assigned exercises that students are responsible for completing independently during this time. These exercises are designed to refine and expand your understanding of the course material and are essential for success in the class. Exercises will be posted on Moodle and aredue at set times as indicated on Moodle.\n",
        "Exercise submissions with missing or broken revision histories will receive zero points.\n",
        "Copy and pasting from others notebooks is prohibited. Exercise submissions with any form of directly copied code receive will zero points.\n",
        "Late or missing exercise submissions receive zero points.''',\n",
        "\n",
        "'Quizzes and Exams' :\n",
        "'''Quizzes and exams will cover all material until that point in the semester, but will primarily focus on material since the previous assessments.\n",
        "Missed quizzes and exams will receive zero points unless prior approval has been received from the instructor.''',\n",
        "\n",
        "'Projects/Presentations' : 'Detailed information about projects/presentations can be found on Moodle.',\n",
        "\n",
        "'Class Attendance' : '''Class time is complementary to the reading, and you will need both in order to learn all of the material in this class.''',  \n",
        "'Class Absence' : 'Students are responsible for any work missed due to absences. Work may almost always be submitted early. It may not be submitted late.',\n",
        "'Class Participation' : 'Each student benefits from the engagement of all others in the class. Attending every class period on time and prepared is the base level expected of everyone. Higher engagement involves constructive participation, in class or out, such as asking questions, answering them, sharing insights or useful/interesting resources with the class, investigating concepts beyond the requirement in class, working on small independent learning projects, etc. Students with excessive (more than 3) unexcused absences, disrupting class (e.g., regularly showing up late), dominating the conversation, and other detrimental actions may have their final course grade reduced by up to a full letter grade.''',\n",
        "\n",
        "'Grade for the Course': 'Course grades will be calculated at the end of the term by dividing the points earned by the total number of available points. Grading details are available on Moodle.',\n",
        "'Regrading': 'If you would like to request a regrade, submit a request to the instructor via email within one week of receiving the graded exercise, exam, etc. Indicate exactly which part you believe deserves a different score and why.',\n",
        "'Late Work Policy': 'Unless otherwise stated, late work of any kind will not receive credit.'\n",
        "}\n",
        "\n"
      ],
      "metadata": {
        "id": "B0MKAr2ShaoC"
      },
      "execution_count": 106,
      "outputs": []
    },
    {
      "cell_type": "markdown",
      "source": [
        "# Course Policies"
      ],
      "metadata": {
        "id": "k8Dlflcpg5sN"
      }
    },
    {
      "cell_type": "code",
      "source": [
        "policies_dic = {\n",
        "\n",
        "'Diversity' :\n",
        "'''Our mission statement includes, \"The University through our policies, programs and practices is committed to diversity [...]\" Our school and this course are made stronger by the mix of people that come into it bringing a diversity of ideas, experiences, and backgrounds. Dimensions of diversity can include sex, race, age, national origin, ethnicity, gender identity and expression, intellectual and physical ability, sexual orientation, income, faith and non-faith perspectives, socio-economic class, political ideology, education, primary language, family status, military experience, cognitive style, and communication style. We will strive to establish and maintain a classroom environment that respects and honors the diversity of our students and faculty members. If you have concerns about the class environment, I encourage you to contact me. If you are not comfortable contacting me, you may also bring concerns to the Provost or the Office of Diversity and Inclusion.''',\n",
        "\n",
        "'Accommodations' :\n",
        "'''Illinois Wesleyan University strives to make all learning experiences as accessible as possible. If you anticipate or experience academic barriers based on a disability (including mental health and chronic or temporary medical conditions), it is your responsibility to register with Disability Services. Please note that accommodations are not retroactive and accommodations cannot be provided until I receive an email from Disability Services.  Once the email is sent, please make arrangements with me as soon as possible to discuss your accommodations confidentially so they may be implemented in a timely fashion.  For more information contact Disability Services by visiting 110 Holmes Hall, or calling 309-556-3231.''',\n",
        "\n",
        "'Community of Care' :\n",
        "'''Mental health and physical health are key components of student wellness, and IWU faculty and staff recognize\n",
        "our role in providing an academically rigorous environment that supports wellness while also providing resources.\n",
        "As a campus community it is important for us to establish mental and physical health promotion practices,\n",
        "destigmatize mental health challenges, normalize care seeking, and provide access to qualified, licensed\n",
        "practitioners that can assist in early identification of and assistance with mental health challenges, whether acute\n",
        "or chronic. We recognize that we live in an ever-changing world that has caused more stress on college students\n",
        "than ever before. Information about Arnold Health Services and Counseling Consultation Services can be found <a href= \n",
        "\"https://www.iwu.edu/counseling/\">here</a>. Additional mental health resources can be found on the <a href=\"https://www.iwu.edu/counseling/\">IWU Counseling and Consultation\n",
        "Services</a> website.''',\n",
        "\n",
        "'Health & Safety' :\n",
        "'Students are expected to adhere to the Titans Caring for Titans Pledge and act as an advocate for a safe learning environment for all students, faculty, and staff.',\n",
        "\n",
        "'Extended Illness' : \n",
        "'''Student’s with an illness that requires more than three absences should contact me as soon as possible to discuss options. Class participation is a critical component of the class and cannot be made up through other activities.''',\n",
        "\n",
        "'Academic Integrity' :\n",
        "'''Do not cheat. Do not plagiarize. Do not pay others to do your work. Do not submit others work you found on the internet. Do not use any form of A.I. assistance to complete your work, unless explicitly given permission by the instructor. The University’s rules and regulations regarding <a href = \"https://www.iwu.edu/judicial/handbook/StudentHandbookPolicies.html#Cheating\">cheating and plagiarism are available in the IWU Student Handbook.</a>''',\n",
        "\n",
        "'Working with Others; Attributions for Others’ Work' :\n",
        "'''The following was adapted from Mark Liffiton’s syllabi language.\n",
        "<li>\n",
        "In general, you may discuss assignments with other people and help each other out by reviewing writing or code for each other, but anything you turn in for a grade needs to reflect your own understanding. For any assignment where you receive assistance from another student, you should email the teaching assistant and provide a brief statement indicating what help you received, if any, and from whom you received it. Simply copying work and giving away solutions are not allowed.\n",
        "</li><li>\n",
        "Try to follow this rule of thumb: No matter what help you receive figuring out the concepts involved, when you turn something in you should be able to reproduce the whole thing, working through the assignment again, without any outside help. If you can't, you will have trouble on quizzes, later assignments, etc.\n",
        "</li><li>\n",
        "When working on code, it is common to find solutions to small problems you have on sites like StackOverflow, technical blogs, or Github. You may use code you find in these situations provided that both 1) it is only a small snippet, up to maybe ten lines of code long, and 2) you clearly and accurately cite the source of the code you are using in a comment nearby. Explain where you found it (with a URL) and what problem it is solving for you. And for your own sake, make sure you understand it. Some assignments may have more specific rules than these about what collaboration or re-use is allowed.\n",
        "</li>''',\n",
        "\n",
        "'Changes to Syllabus' : 'I reserve the right to alter any part of the syllabus or course schedule at any time. Changes will be announced in class or through email.',\n",
        "\n",
        "'End-of-Syllabus Advice' : '''\n",
        "Come to office hours. Previous students say coming to office hours helped them with the hard parts of learning how to program. If something in class or in the book isn't clear, the one-on-one interaction with an instructor or TA is often the best way to work it out. Office hours are an important extension of the class sessions, which won't always be sufficient by themselves. In general, the more we interact, and not just in the classroom, the better the semester will be.'''\n",
        "\n",
        "}"
      ],
      "metadata": {
        "id": "rbS538TAg4KS"
      },
      "execution_count": 107,
      "outputs": []
    },
    {
      "cell_type": "markdown",
      "source": [
        "# Variables"
      ],
      "metadata": {
        "id": "MPN37K39IUIh"
      }
    },
    {
      "cell_type": "code",
      "source": [
        "course = 387\n",
        "semester = 'Spring 2023'\n",
        "omit_breakdown = True\n",
        "session, year = semester.split()\n",
        "\n",
        "course_full = {125:'CSDS125', 387:'CS387'}[course]\n",
        "output_file = f'{year}_{session}_{course_full}.html'\n"
      ],
      "metadata": {
        "id": "xDkdre76IXT-"
      },
      "execution_count": 108,
      "outputs": []
    },
    {
      "cell_type": "code",
      "source": [
        "content = [\n",
        "    ('Instructor Information', instructor_dic, 'bulleted_list'),\n",
        "    ('Course Information', course_dic[course], None),\n",
        "    ('Course Work and Grading', work_dic, None),    \n",
        "    ('Course Policies', policies_dic, None) \n",
        "]"
      ],
      "metadata": {
        "id": "VW9cfWcPMC24"
      },
      "execution_count": 109,
      "outputs": []
    },
    {
      "cell_type": "markdown",
      "source": [
        "# Use template, output html"
      ],
      "metadata": {
        "id": "HBl-ErKUyp7R"
      }
    },
    {
      "cell_type": "code",
      "source": [
        "templateLoader = FileSystemLoader(searchpath=\"./\")\n",
        "templateEnv = Environment(loader=templateLoader)\n",
        "template = templateEnv.get_or_select_template('template1.html')"
      ],
      "metadata": {
        "id": "ukmwvOSDEeFN"
      },
      "execution_count": 110,
      "outputs": []
    },
    {
      "cell_type": "code",
      "source": [
        "output = template.render(course_info = course_dic[course],\n",
        "                         instructor_info = instructor_dic,\n",
        "                         body_content = content,\n",
        "                         semester = semester,\n",
        "                         omit_breakdown = omit_breakdown)"
      ],
      "metadata": {
        "id": "eaHPZSDN5zKP"
      },
      "execution_count": 111,
      "outputs": []
    },
    {
      "cell_type": "code",
      "source": [
        "with open(output_file, 'w') as fp:\n",
        "    fp.write(output)"
      ],
      "metadata": {
        "id": "vrvDj-viFuUH"
      },
      "execution_count": 112,
      "outputs": []
    },
    {
      "cell_type": "code",
      "source": [
        "IPython.display.HTML(filename=output_file)"
      ],
      "metadata": {
        "colab": {
          "base_uri": "https://localhost:8080/",
          "height": 1000
        },
        "id": "kAbRyrwlF4f4",
        "outputId": "2398039b-1dc3-4065-ccac-5912fb0873bf"
      },
      "execution_count": 113,
      "outputs": [
        {
          "output_type": "execute_result",
          "data": {
            "text/plain": [
              "<IPython.core.display.HTML object>"
            ],
            "text/html": [
              "\n",
              "<!DOCTYPE html>\n",
              "<html lang=\"en\">\n",
              "<head>\n",
              "    <title>CS387</title>\n",
              "</head>\n",
              "<body>\n",
              "    <center>\n",
              "    <h1>Deep Learning</h1>\n",
              "    <h2>CS387</h2>\n",
              "    <h2>Spring 2023</h2>\n",
              "    </center>\n",
              "\n",
              "\n",
              "    \n",
              "      <p><hr><hr>\n",
              "      \n",
              "      \n",
              "      <h1>Instructor Information</h1>\n",
              "      \n",
              "      \n",
              "        \n",
              "          <li>Instructor: Brad Sheese, Ph.D., Professor of Computer Science</li>\n",
              "        \n",
              "          <li>Contact: bsheese@iwu.edu</li>\n",
              "        \n",
              "          <li>Office: CNS C207D</li>\n",
              "        \n",
              "          <li>Office Hours: Posted on Moodle.</li>\n",
              "        \n",
              "\n",
              "      \n",
              "      </p>\n",
              "    \n",
              "      <p><hr><hr>\n",
              "      \n",
              "      \n",
              "      <h1>Course Information</h1>\n",
              "      \n",
              "      \n",
              "        \n",
              "          \n",
              "            \n",
              "          \n",
              "        \n",
              "          \n",
              "            \n",
              "          \n",
              "        \n",
              "          \n",
              "            <h2>Course Description</h2>\n",
              "            Deep learning (machine learning using large neural networks) has proven to be effective at a a number of difficult tasks, with active research ongoing. Student will study mathematical foundations, implementation of neural network optimization in Python, and a number of applications of deep learning including machine vision and natural laguage processing. Prerequisites: CS128 with a C- or above and CS/MATH 136.\n",
              "          \n",
              "        \n",
              "          \n",
              "            <h2>Course Text</h2>\n",
              "            There is no textbook for the class. Assigned readings are available through moodle.\n",
              "          \n",
              "        \n",
              "          \n",
              "            <h2>Course Tools</h2>\n",
              "            This course makes heavy use of Moodle. Students are expected to keep up to date with Moodle throughout the semester.\n",
              "          \n",
              "        \n",
              "          \n",
              "            <h2>Course Content</h2>\n",
              "            <li>Linear Algebra, Vectorization</li>\n",
              "                              <li>Logistic Regression</li>\n",
              "                              <li>Hyperparameter Tuning</li>\n",
              "                              <li>Regularization and Normalization</li>\n",
              "                              <li>Optimization Algorithms</li>\n",
              "                              <li>Batch Normalization</li>\n",
              "                              <li>Convolutional Neural Networks</li>\n",
              "                              <li>Recurrent Neural Networks and Sequence Models</li>                              \n",
              "                              <li>Generative Adversarial Networks</li>\n",
              "          \n",
              "        \n",
              "          \n",
              "            <h2>Course Goals</h2>\n",
              "            From Mark Liffiton's course: This class will study deep learning from several perspectives. First, we will learn the mathematical foundations of building and using artificial neural networks and their implementation in software. With that base of understanding, we will build increasingly complex neural network structures to solve a variety of problems, studying their implementation and limitations along the way. We will study several specific deep learning network structures that have been found to perform well in a domains, including convolutional neural networks for computer vision and recurrent neural networks for natural language processing. And along the way, we will study and consider the ethical implications and issues raised by the use of these complex, often inscrutable systems throughout society.\n",
              "          \n",
              "        \n",
              "\n",
              "      \n",
              "      </p>\n",
              "    \n",
              "      <p><hr><hr>\n",
              "      \n",
              "      \n",
              "      <h1>Course Work and Grading</h1>\n",
              "      \n",
              "      \n",
              "        \n",
              "          \n",
              "            \n",
              "          \n",
              "        \n",
              "          \n",
              "            <h2>Reading Responses</h2>\n",
              "            This class will be taught in a \"flipped\" style, meaning you will be responsible for your initial exposure to learning new material outside of class, and time in class will be spent on exercises and activities that will strengthen the understanding you bring to class.\n",
              "A set of questions will be assigned to be answered before most classes. These questions will invite your reaction to the assigned material and check your understanding of it. Your responses will help us tailor our time in class to your needs.\n",
              "Answering reading responses before class is critical, and so responses will not be accepted after the assigned deadline.\n",
              "Late or missing reading response submissions receive zero points.\n",
              "          \n",
              "        \n",
              "          \n",
              "            <h2>Exercises</h2>\n",
              "             Every week we will have assigned exercises that students are responsible for completing independently during this time. These exercises are designed to refine and expand your understanding of the course material and are essential for success in the class. Exercises will be posted on Moodle and aredue at set times as indicated on Moodle.\n",
              "Exercise submissions with missing or broken revision histories will receive zero points.\n",
              "Copy and pasting from others notebooks is prohibited. Exercise submissions with any form of directly copied code receive will zero points.\n",
              "Late or missing exercise submissions receive zero points.\n",
              "          \n",
              "        \n",
              "          \n",
              "            <h2>Quizzes and Exams</h2>\n",
              "            Quizzes and exams will cover all material until that point in the semester, but will primarily focus on material since the previous assessments.\n",
              "Missed quizzes and exams will receive zero points unless prior approval has been received from the instructor.\n",
              "          \n",
              "        \n",
              "          \n",
              "            <h2>Projects/Presentations</h2>\n",
              "            Detailed information about projects/presentations can be found on Moodle.\n",
              "          \n",
              "        \n",
              "          \n",
              "            <h2>Class Attendance</h2>\n",
              "            Class time is complementary to the reading, and you will need both in order to learn all of the material in this class.\n",
              "          \n",
              "        \n",
              "          \n",
              "            <h2>Class Absence</h2>\n",
              "            Students are responsible for any work missed due to absences. Work may almost always be submitted early. It may not be submitted late.\n",
              "          \n",
              "        \n",
              "          \n",
              "            <h2>Class Participation</h2>\n",
              "            Each student benefits from the engagement of all others in the class. Attending every class period on time and prepared is the base level expected of everyone. Higher engagement involves constructive participation, in class or out, such as asking questions, answering them, sharing insights or useful/interesting resources with the class, investigating concepts beyond the requirement in class, working on small independent learning projects, etc. Students with excessive (more than 3) unexcused absences, disrupting class (e.g., regularly showing up late), dominating the conversation, and other detrimental actions may have their final course grade reduced by up to a full letter grade.\n",
              "          \n",
              "        \n",
              "          \n",
              "            <h2>Grade for the Course</h2>\n",
              "            Course grades will be calculated at the end of the term by dividing the points earned by the total number of available points. Grading details are available on Moodle.\n",
              "          \n",
              "        \n",
              "          \n",
              "            <h2>Regrading</h2>\n",
              "            If you would like to request a regrade, submit a request to the instructor via email within one week of receiving the graded exercise, exam, etc. Indicate exactly which part you believe deserves a different score and why.\n",
              "          \n",
              "        \n",
              "          \n",
              "            <h2>Late Work Policy</h2>\n",
              "            Unless otherwise stated, late work of any kind will not receive credit.\n",
              "          \n",
              "        \n",
              "\n",
              "      \n",
              "      </p>\n",
              "    \n",
              "      <p><hr><hr>\n",
              "      \n",
              "      \n",
              "      <h1>Course Policies</h1>\n",
              "      \n",
              "      \n",
              "        \n",
              "          \n",
              "            <h2>Diversity</h2>\n",
              "            Our mission statement includes, \"The University through our policies, programs and practices is committed to diversity [...]\" Our school and this course are made stronger by the mix of people that come into it bringing a diversity of ideas, experiences, and backgrounds. Dimensions of diversity can include sex, race, age, national origin, ethnicity, gender identity and expression, intellectual and physical ability, sexual orientation, income, faith and non-faith perspectives, socio-economic class, political ideology, education, primary language, family status, military experience, cognitive style, and communication style. We will strive to establish and maintain a classroom environment that respects and honors the diversity of our students and faculty members. If you have concerns about the class environment, I encourage you to contact me. If you are not comfortable contacting me, you may also bring concerns to the Provost or the Office of Diversity and Inclusion.\n",
              "          \n",
              "        \n",
              "          \n",
              "            <h2>Accommodations</h2>\n",
              "            Illinois Wesleyan University strives to make all learning experiences as accessible as possible. If you anticipate or experience academic barriers based on a disability (including mental health and chronic or temporary medical conditions), it is your responsibility to register with Disability Services. Please note that accommodations are not retroactive and accommodations cannot be provided until I receive an email from Disability Services.  Once the email is sent, please make arrangements with me as soon as possible to discuss your accommodations confidentially so they may be implemented in a timely fashion.  For more information contact Disability Services by visiting 110 Holmes Hall, or calling 309-556-3231.\n",
              "          \n",
              "        \n",
              "          \n",
              "            <h2>Community of Care</h2>\n",
              "            Mental health and physical health are key components of student wellness, and IWU faculty and staff recognize\n",
              "our role in providing an academically rigorous environment that supports wellness while also providing resources.\n",
              "As a campus community it is important for us to establish mental and physical health promotion practices,\n",
              "destigmatize mental health challenges, normalize care seeking, and provide access to qualified, licensed\n",
              "practitioners that can assist in early identification of and assistance with mental health challenges, whether acute\n",
              "or chronic. We recognize that we live in an ever-changing world that has caused more stress on college students\n",
              "than ever before. Information about Arnold Health Services and Counseling Consultation Services can be found <a href= \n",
              "\"https://www.iwu.edu/counseling/\">here</a>. Additional mental health resources can be found on the <a href=\"https://www.iwu.edu/counseling/\">IWU Counseling and Consultation\n",
              "Services</a> website.\n",
              "          \n",
              "        \n",
              "          \n",
              "            <h2>Health & Safety</h2>\n",
              "            Students are expected to adhere to the Titans Caring for Titans Pledge and act as an advocate for a safe learning environment for all students, faculty, and staff.\n",
              "          \n",
              "        \n",
              "          \n",
              "            <h2>Extended Illness</h2>\n",
              "            Student’s with an illness that requires more than three absences should contact me as soon as possible to discuss options. Class participation is a critical component of the class and cannot be made up through other activities.\n",
              "          \n",
              "        \n",
              "          \n",
              "            <h2>Academic Integrity</h2>\n",
              "            Do not cheat. Do not plagiarize. Do not pay others to do your work. Do not submit others work you found on the internet. Do not use any form of A.I. assistance to complete your work, unless explicitly given permission by the instructor. The University’s rules and regulations regarding <a href = \"https://www.iwu.edu/judicial/handbook/StudentHandbookPolicies.html#Cheating\">cheating and plagiarism are available in the IWU Student Handbook.</a>\n",
              "          \n",
              "        \n",
              "          \n",
              "            <h2>Working with Others; Attributions for Others’ Work</h2>\n",
              "            The following was adapted from Mark Liffiton’s syllabi language.\n",
              "<li>\n",
              "In general, you may discuss assignments with other people and help each other out by reviewing writing or code for each other, but anything you turn in for a grade needs to reflect your own understanding. For any assignment where you receive assistance from another student, you should email the teaching assistant and provide a brief statement indicating what help you received, if any, and from whom you received it. Simply copying work and giving away solutions are not allowed.\n",
              "</li><li>\n",
              "Try to follow this rule of thumb: No matter what help you receive figuring out the concepts involved, when you turn something in you should be able to reproduce the whole thing, working through the assignment again, without any outside help. If you can't, you will have trouble on quizzes, later assignments, etc.\n",
              "</li><li>\n",
              "When working on code, it is common to find solutions to small problems you have on sites like StackOverflow, technical blogs, or Github. You may use code you find in these situations provided that both 1) it is only a small snippet, up to maybe ten lines of code long, and 2) you clearly and accurately cite the source of the code you are using in a comment nearby. Explain where you found it (with a URL) and what problem it is solving for you. And for your own sake, make sure you understand it. Some assignments may have more specific rules than these about what collaboration or re-use is allowed.\n",
              "</li>\n",
              "          \n",
              "        \n",
              "          \n",
              "            <h2>Changes to Syllabus</h2>\n",
              "            I reserve the right to alter any part of the syllabus or course schedule at any time. Changes will be announced in class or through email.\n",
              "          \n",
              "        \n",
              "          \n",
              "            <h2>End-of-Syllabus Advice</h2>\n",
              "            \n",
              "Come to office hours. Previous students say coming to office hours helped them with the hard parts of learning how to program. If something in class or in the book isn't clear, the one-on-one interaction with an instructor or TA is often the best way to work it out. Office hours are an important extension of the class sessions, which won't always be sufficient by themselves. In general, the more we interact, and not just in the classroom, the better the semester will be.\n",
              "          \n",
              "        \n",
              "\n",
              "      \n",
              "      </p>\n",
              "    \n",
              "\n",
              "\n",
              "        \n",
              "\n",
              "    \n",
              "</body>\n",
              "</html>"
            ]
          },
          "metadata": {},
          "execution_count": 113
        }
      ]
    }
  ]
}